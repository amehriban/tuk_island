{
 "cells": [
  {
   "cell_type": "code",
   "execution_count": 1,
   "metadata": {},
   "outputs": [],
   "source": [
    "#R\n",
    "#X and Y coordinates of top-left corner of rectangle\n",
    "#X and Y coordinates of bottom-right corner of rectangle\n",
    "#Resistivity value\n",
    "#Damping factor\n",
    "#Eastern transect: island between i=23 and i=54. South is up to i=23, north is beyond i=54"
   ]
  },
  {
   "cell_type": "code",
   "execution_count": 2,
   "metadata": {},
   "outputs": [],
   "source": [
    "#import packages\n",
    "import pandas as pd\n",
    "import numpy as np"
   ]
  },
  {
   "cell_type": "code",
   "execution_count": 3,
   "metadata": {},
   "outputs": [],
   "source": [
    "#import topography data\n",
    "\n",
    "dir = 'N:/isipd/projects/p_subaqua/Expeditions/2023/NWT2023/analysis_Tuk/Tuk_all_mehriban/'\n",
    "\n",
    "topopd_east = pd.read_csv(dir+'processing/fixed_regions/eastern_amphibious_topography.csv')\n",
    "topo_east = topopd_east.to_numpy()\n",
    "\n",
    "topopd_west = pd.read_csv(dir+'processing/fixed_regions/western_amphibious_topography.csv')\n",
    "topo_west = topopd_west.to_numpy()"
   ]
  },
  {
   "cell_type": "code",
   "execution_count": 6,
   "metadata": {},
   "outputs": [],
   "source": [
    "a = topo_east[:, 0]\n",
    "b = topo_east[:, 1]\n",
    "\n",
    "\n",
    "count_R = 0\n",
    "for i in range(len(a) - 1):\n",
    "    if i <= 22 or i >= 55: #defining landmass\n",
    "        count_R += 1\n",
    "\n",
    "\n",
    "lines = []\n",
    "lines.append(str(count_R) + '\\n')\n",
    "for i in range(len(a) - 1):\n",
    "    if i <= 22 or i >= 55:\n",
    "        line1 = 'R\\n'\n",
    "        line2 = f'{a[i]} {0}\\n'\n",
    "        line3 = f'{a[i] + 5} {b[i]}\\n'\n",
    "        line5 = '2\\n'\n",
    "        if i <= 22:\n",
    "            line4 = f'{1.5 if abs(b[i]) <= 2.5 else 0.5}\\n' #setting the resistivity of water layers south of the island\n",
    "        elif i >= 55:\n",
    "            line4 = f'{8 if abs(b[i]) <= 3 else 1}\\n' #setting the resistivity of water layers north of the island\n",
    "        lines.extend([line1, line2, line3, line4, line5])\n",
    "\n",
    "for _ in range(5):\n",
    "    lines.append('0\\n')\n",
    "\n",
    "\n",
    "# Write all lines to the file\n",
    "with open(dir + 'processing/fixed_regions/fixed_regions_eastern.dat', 'w') as output_file:\n",
    "    output_file.writelines(lines)"
   ]
  },
  {
   "cell_type": "code",
   "execution_count": 4,
   "metadata": {},
   "outputs": [],
   "source": [
    "a = topo_west[:, 0]\n",
    "b = topo_west[:, 1]\n",
    "\n",
    "\n",
    "count_R = 0\n",
    "for i in range(len(a) - 1):\n",
    "    if i <= 24 or i >= 39: #defining landmass\n",
    "        count_R += 1\n",
    "\n",
    "\n",
    "lines = []\n",
    "lines.append(str(count_R) + '\\n')\n",
    "for i in range(len(a) - 1):\n",
    "    if i <= 24 or i >= 39:\n",
    "        line1 = 'R\\n'\n",
    "        line2 = f'{a[i]} {0}\\n'\n",
    "        line3 = f'{a[i] + 5} {b[i]}\\n'\n",
    "        line5 = '2\\n'\n",
    "        if i <= 24:\n",
    "            line4 = f'{1 if abs(b[i]) <= 2.5 else 1}\\n' #setting the resistivity of water layers south of the island\n",
    "        elif i >= 39:\n",
    "            line4 = f'{1.3 if abs(b[i]) <= 2 else 0.2}\\n' #setting the resistivity of water layers north of the island\n",
    "        lines.extend([line1, line2, line3, line4, line5])\n",
    "\n",
    "for _ in range(5):\n",
    "    lines.append('0\\n')\n",
    "\n",
    "\n",
    "# Write all lines to the file\n",
    "with open(dir + 'fixed_regions/fixed_regions_western.dat', 'w') as output_file:\n",
    "    output_file.writelines(lines)"
   ]
  },
  {
   "cell_type": "code",
   "execution_count": 7,
   "metadata": {},
   "outputs": [],
   "source": [
    "# Open the first file in read mode and read its contents\n",
    "with open(dir + 'processing/fixed_regions/fixed_regions_eastern.dat', 'r') as file1:\n",
    "    file1_contents = file1.read()\n",
    "\n",
    "# Open the second file in read mode and read its contents\n",
    "with open(dir + 'processing/fixed_regions/eastern_transect_no_fixed_regions.dat', 'r') as file2:\n",
    "    file2_contents = file2.read()\n",
    "\n",
    "\n",
    "# Combine the contents of both files\n",
    "combined_contents = file2_contents+file1_contents\n",
    "\n",
    "# Open a new file in write mode and write the combined contents to it\n",
    "with open(dir + 'res2dinv_inputs/fixed_regions/eastern_transect_with_fixed_regions.dat', 'w') as combined_file:\n",
    "    combined_file.write(combined_contents)\n"
   ]
  },
  {
   "cell_type": "code",
   "execution_count": 6,
   "metadata": {},
   "outputs": [],
   "source": [
    "# Open the first file in read mode and read its contents\n",
    "with open(dir + 'fixed_regions/fixed_regions_western.dat', 'r') as file1:\n",
    "    file1_contents = file1.read()\n",
    "\n",
    "# Open the second file in read mode and read its contents\n",
    "with open(dir + 'fixed_regions/western_transect_no_fixed_regions.dat', 'r') as file2:\n",
    "    file2_contents = file2.read()\n",
    "\n",
    "\n",
    "# Combine the contents of both files\n",
    "combined_contents = file2_contents+file1_contents\n",
    "\n",
    "# Open a new file in write mode and write the combined contents to it\n",
    "with open(dir + 'res2dinv_inputs/fixed_regions/western_transect_with_fixed_regions.dat', 'w') as combined_file:\n",
    "    combined_file.write(combined_contents)\n"
   ]
  }
 ],
 "metadata": {
  "kernelspec": {
   "display_name": "pg",
   "language": "python",
   "name": "python3"
  },
  "language_info": {
   "codemirror_mode": {
    "name": "ipython",
    "version": 3
   },
   "file_extension": ".py",
   "mimetype": "text/x-python",
   "name": "python",
   "nbconvert_exporter": "python",
   "pygments_lexer": "ipython3",
   "version": "3.11.8"
  }
 },
 "nbformat": 4,
 "nbformat_minor": 2
}
